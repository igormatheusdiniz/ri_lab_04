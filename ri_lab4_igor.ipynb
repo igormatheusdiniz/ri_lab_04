{
  "nbformat": 4,
  "nbformat_minor": 0,
  "metadata": {
    "colab": {
      "name": "ri-lab4-igor.ipynb",
      "version": "0.3.2",
      "provenance": [],
      "collapsed_sections": [],
      "toc_visible": true,
      "include_colab_link": true
    },
    "kernelspec": {
      "name": "python3",
      "display_name": "Python 3"
    }
  },
  "cells": [
    {
      "cell_type": "markdown",
      "metadata": {
        "id": "view-in-github",
        "colab_type": "text"
      },
      "source": [
        "<a href=\"https://colab.research.google.com/github/igormatheusdiniz/ri_lab_04/blob/master/ri_lab4_igor.ipynb\" target=\"_parent\"><img src=\"https://colab.research.google.com/assets/colab-badge.svg\" alt=\"Open In Colab\"/></a>"
      ]
    },
    {
      "cell_type": "code",
      "metadata": {
        "id": "mmKUEBAHLTnk",
        "colab_type": "code",
        "outputId": "1baf0e91-05b9-4a76-bada-37f4bb2fcce8",
        "colab": {
          "base_uri": "https://localhost:8080/",
          "height": 153
        }
      },
      "source": [
        "import matplotlib.pyplot as plt\n",
        "import numpy as np\n",
        "import pandas as pd\n",
        "import re\n",
        "import seaborn as sns\n",
        "import time\n",
        "import heapq as hp\n",
        "\n",
        "# Memory use\n",
        "!pip install memory_profiler\n",
        "%load_ext memory_profiler\n",
        "\n",
        "import nltk\n",
        "nltk.download('rslp')\n",
        "nltk.download('stopwords')\n",
        "\n",
        "from nltk.corpus import stopwords\n",
        "from nltk.tokenize import RegexpTokenizer\n",
        "from nltk.tokenize import word_tokenize\n",
        "from collections import Counter\n",
        "from nltk.stem import PorterStemmer\n",
        "from nltk.tokenize import sent_tokenize, word_tokenize\n",
        "import heapq as hp\n"
      ],
      "execution_count": 440,
      "outputs": [
        {
          "output_type": "stream",
          "text": [
            "Requirement already satisfied: memory_profiler in /usr/local/lib/python3.6/dist-packages (0.55.0)\n",
            "Requirement already satisfied: psutil in /usr/local/lib/python3.6/dist-packages (from memory_profiler) (5.4.8)\n",
            "The memory_profiler extension is already loaded. To reload it, use:\n",
            "  %reload_ext memory_profiler\n",
            "[nltk_data] Downloading package rslp to /root/nltk_data...\n",
            "[nltk_data]   Package rslp is already up-to-date!\n",
            "[nltk_data] Downloading package stopwords to /root/nltk_data...\n",
            "[nltk_data]   Package stopwords is already up-to-date!\n"
          ],
          "name": "stdout"
        }
      ]
    },
    {
      "cell_type": "code",
      "metadata": {
        "id": "QA7XfdsdvC-r",
        "colab_type": "code",
        "colab": {}
      },
      "source": [
        "url = 'https://raw.githubusercontent.com/Benardi/ri_lab_01/master/output/results.csv'"
      ],
      "execution_count": 0,
      "outputs": []
    },
    {
      "cell_type": "markdown",
      "metadata": {
        "id": "zsskq1OMvCYH",
        "colab_type": "text"
      },
      "source": [
        "Utilizei a base de dados de Benardi, e por motivos de não precisar importar o .csv toda vez ao inicializar o colab, defini a url em meu lab."
      ]
    },
    {
      "cell_type": "markdown",
      "metadata": {
        "id": "BCjxEMV4t_9w",
        "colab_type": "text"
      },
      "source": [
        "# Tratamento dos dados"
      ]
    },
    {
      "cell_type": "code",
      "metadata": {
        "id": "B5ZJ7alqihe0",
        "colab_type": "code",
        "colab": {}
      },
      "source": [
        "dataframe = pd.read_csv(url)\n",
        "dataframe['treatedText'] = dataframe.text.apply(lambda x: re.sub('[^0-9A-ZÀ-Úa-zà-ú\\']', ' ', x.lower()))"
      ],
      "execution_count": 0,
      "outputs": []
    },
    {
      "cell_type": "markdown",
      "metadata": {
        "id": "oaQxdvb3x7Ge",
        "colab_type": "text"
      },
      "source": [
        "Diferente do lab anterior onde para obter os tokens, não utilizei o método tokenize do ntlk, para atender as especificações do lab atual, atualizei a forma que recupero os tokens do meu texto."
      ]
    },
    {
      "cell_type": "code",
      "metadata": {
        "id": "iRjynap9fj1T",
        "colab_type": "code",
        "colab": {}
      },
      "source": [
        "regex = RegexpTokenizer(r'[A-zÀ-ú-]+')\n",
        "stopWords = set(stopwords.words('portuguese'))"
      ],
      "execution_count": 0,
      "outputs": []
    },
    {
      "cell_type": "markdown",
      "metadata": {
        "id": "y2nGaC3xC8HO",
        "colab_type": "text"
      },
      "source": [
        "# Questão 1"
      ]
    },
    {
      "cell_type": "markdown",
      "metadata": {
        "id": "5r-Q7z2OVaZ0",
        "colab_type": "text"
      },
      "source": [
        "## Algoritimo de construção de índice Invertido"
      ]
    },
    {
      "cell_type": "code",
      "metadata": {
        "id": "5YORO0XC5du5",
        "colab_type": "code",
        "colab": {}
      },
      "source": [
        "def ocurrences(list, token):\n",
        "  print(list)\n",
        "  print(token)\n",
        "  count = 0\n",
        "  for word in list:\n",
        "    if word==token:\n",
        "      count +=1\n",
        "  return count\n",
        "      \n",
        "\n",
        "def invertedIndex(documents):\n",
        "  I = {}\n",
        "  index = 0\n",
        "  \n",
        "  ##Para cada documento na minha relação de documentos irei realizar o processo de tokenização\n",
        "  for document in documents.treatedText:\n",
        "    index += 1\n",
        "    T = [token for token in regex.tokenize(document)\n",
        "        if((len(token)>=3) and token not in stopWords and token[0] != \"[\" and token[-1]!=\"]\")]\n",
        "    \n",
        "    ##Por motivos didáticos, resolvi ordenar minha lista de tokens\n",
        "    T.sort()\n",
        "    \n",
        "    ## Pra cada token criado se ele ainda não existe na minha estrutura de armazenamento como uma chave, eu crio e em seguida adiciono\n",
        "    ##o indice do documento como valor para esta chave\n",
        "    ## Caso já exista, apenas adiciona o índice do documento para esta chave\n",
        "    for token in T:\n",
        "      if token not in I.keys():\n",
        "        I[token]=[]\n",
        "       \n",
        "      pair = []\n",
        "      ocurrence = T.count(token)\n",
        "     \n",
        "      pair.append(index)\n",
        "      pair.append(ocurrence)\n",
        "      if(pair not in I[token]):\n",
        "        I[token].append(pair)\n",
        "  ## Por motivos estéticos resolvi comentar esta linha para não ficar uma lista de print muito grande no gitHub, dificultando a visualização do documento como um todo      \n",
        "  ##print(I)\n",
        "  return I\n",
        "\n",
        "## Exportando para .csv\n",
        "invertedIndex = invertedIndex(dataframe)\n",
        "data = {'token': list(invertedIndex.keys()), 'ocurrences': list(invertedIndex.values())}\n",
        "df = pd.DataFrame(data)\n",
        "df.to_csv('index.csv')"
      ],
      "execution_count": 0,
      "outputs": []
    },
    {
      "cell_type": "markdown",
      "metadata": {
        "id": "j-BPpTexdDIQ",
        "colab_type": "text"
      },
      "source": [
        "# Questão 2"
      ]
    },
    {
      "cell_type": "markdown",
      "metadata": {
        "id": "jXYl5IgjVfW5",
        "colab_type": "text"
      },
      "source": [
        "## Algoritimo Documento por vez  "
      ]
    },
    {
      "cell_type": "code",
      "metadata": {
        "id": "PogWTLVo5j9X",
        "colab_type": "code",
        "outputId": "bb963b17-8e10-4552-8ef1-7b1308eaa777",
        "colab": {
          "base_uri": "https://localhost:8080/",
          "height": 34
        }
      },
      "source": [
        "def documentAtTimeRetrieval(terms, invertedIndex, k, documents):\n",
        "  invertedLists = []\n",
        "  R = []\n",
        "  \n",
        "  ##Para cada termo recebido, se este termo está contindo nas chaves do meu IndiceInvertido construído anteriormente\n",
        "  ##adicione na minha estrutura de listas invertidas \n",
        "  for term in terms.split():\n",
        "    if term in invertedIndex.keys():\n",
        "      invertedLists.append(invertedIndex[term])\n",
        "  \n",
        "  ##Para cada documento recuperado vamos calcular o score\n",
        "  for document in range(documents.treatedText.count()):\n",
        "    score = 0\n",
        "    for invertedList in invertedLists:\n",
        "      for value in invertedList:\n",
        "        if document == value[0]:\n",
        "          score += value[1]\n",
        "    if score != 0:\n",
        "      R.append((score,document)) \n",
        "  \n",
        "  ##Ordenando nossa estrutura de resposta, e selecionando os k-ésimos elementos\n",
        "  R.sort(reverse=True) \n",
        "  result = R[0:k]\n",
        "  \n",
        "  \n",
        "  return result\n",
        "    \n",
        "    \n",
        "resultado = documentAtTimeRetrieval('juíza federal', invertedIndex, 5, dataframe)\n",
        "\n",
        "print(resultado)"
      ],
      "execution_count": 445,
      "outputs": [
        {
          "output_type": "stream",
          "text": [
            "[(5, 151), (4, 173), (4, 1), (3, 248), (3, 229)]\n"
          ],
          "name": "stdout"
        }
      ]
    },
    {
      "cell_type": "markdown",
      "metadata": {
        "id": "-j4_8zOgVm0r",
        "colab_type": "text"
      },
      "source": [
        "## Algoritimo Termo por vez"
      ]
    },
    {
      "cell_type": "code",
      "metadata": {
        "id": "VSn-iZY7PiA2",
        "colab_type": "code",
        "outputId": "da1b4106-16fd-421e-d875-27b8d6630fde",
        "colab": {
          "base_uri": "https://localhost:8080/",
          "height": 34
        }
      },
      "source": [
        "def termAtTimeRetrieval(terms, invertedIndex, k):\n",
        "  hashtable = {}\n",
        "  invertedLists =[]\n",
        "  R = []\n",
        "  \n",
        "  ##Para cada termo recebido, se este termo está contindo nas chaves do meu IndiceInvertido construído anteriormente\n",
        "  ##adicione na minha estrutura de listas invertidas \n",
        "  for term in terms.split():\n",
        "    if term in invertedIndex.keys():\n",
        "      invertedLists.append(invertedIndex[term])\n",
        "  \n",
        "  \n",
        "  ## DIferente do algoritimo documentoPorVez iremos ACUMULAR os scores para cada termo\n",
        "  ## Para isso analisamos, os valores de cada chave/termo em nossa estrutura\n",
        "  ## nosso value 0 será o \"índice\" do documento, enquanto que o value 1 a frequência\n",
        "  ## Se nosso documento ja existir na hashtable de retorno iremos apenas atualizar o score acumulando-o\n",
        "  ## Caso contrário iremos cria-ló em nossa hashtable e atribuir um score = frequencia para ele.\n",
        "  \n",
        "  for invertedList in invertedLists:\n",
        "    for value in invertedList:\n",
        "      d = value[0]\n",
        "      f = value[1]\n",
        "      if d in hashtable.keys():\n",
        "        hashtable[d] = hashtable[d] + f\n",
        "      else:  \n",
        "        hashtable[d] = f\n",
        "  \n",
        "  R = list(map(lambda elem: (elem[1],elem[0]), hashtable.items()))\n",
        "  \n",
        "  ##Ordenando nossa estrutura de resposta, e selecionando os k-ésimos elementos\n",
        "  R.sort(reverse=True) \n",
        "  result = R[0:k]\n",
        "  \n",
        "  return result\n",
        "\n",
        "resultado = documentAtTimeRetrieval('juíza federal', invertedIndex, 5, dataframe)\n",
        "\n",
        "print(resultado)"
      ],
      "execution_count": 446,
      "outputs": [
        {
          "output_type": "stream",
          "text": [
            "[(5, 151), (4, 173), (4, 1), (3, 248), (3, 229)]\n"
          ],
          "name": "stdout"
        }
      ]
    },
    {
      "cell_type": "code",
      "metadata": {
        "id": "chnaNjvWaVM3",
        "colab_type": "code",
        "colab": {}
      },
      "source": [
        "## Definindo 5 consultas de um termo, para testarmos ambos algoritimos\n",
        "consultas = ['escola','bolsonaro', 'lula', 'universidades', 'infantil']"
      ],
      "execution_count": 0,
      "outputs": []
    },
    {
      "cell_type": "markdown",
      "metadata": {
        "id": "WL-GHCYCV4N-",
        "colab_type": "text"
      },
      "source": [
        "##  Consultas Documento por vez"
      ]
    },
    {
      "cell_type": "code",
      "metadata": {
        "id": "3MeAP3_wV3yh",
        "colab_type": "code",
        "outputId": "bafeccae-51b5-4db5-c422-92e7e7a158d4",
        "colab": {
          "base_uri": "https://localhost:8080/",
          "height": 204
        }
      },
      "source": [
        "## Estrutura para armazenamento dos resultados das pesquisas, para futura conversão em coluna de tabela\n",
        "documentAtTimeResult = []\n",
        "\n",
        "## Estrutura para armazenamento dos tempos de execução, para futura conversão em coluna de tabela\n",
        "tempoResultados = []\n",
        "\n",
        "## Variáveis auxiliares para calcular o tempo de execução\n",
        "tempoInicial = 0\n",
        "tempoFinal = 0\n",
        "\n",
        "for pesquisa in consultas:\n",
        "  tempoInicial = time.time()\n",
        "  consulta = documentAtTimeRetrieval(pesquisa, invertedIndex, 10, dataframe)\n",
        "  tempoFinal = time.time()\n",
        "  tempo = tempoFinal - tempoInicial\n",
        "  tempoResultados.append(tempo)\n",
        "  documentAtTimeResult.append(consulta)\n",
        "\n",
        "\n",
        "table = pd.DataFrame()\n",
        "pd.options.display.max_colwidth = 160\n",
        "\n",
        "table['termo'] = consultas\n",
        "table['DocumentoPorVez'] = documentAtTimeResult\n",
        "table['tempoExec_DocVez'] = tempoResultados\n",
        "\n",
        "table"
      ],
      "execution_count": 448,
      "outputs": [
        {
          "output_type": "execute_result",
          "data": {
            "text/html": [
              "<div>\n",
              "<style scoped>\n",
              "    .dataframe tbody tr th:only-of-type {\n",
              "        vertical-align: middle;\n",
              "    }\n",
              "\n",
              "    .dataframe tbody tr th {\n",
              "        vertical-align: top;\n",
              "    }\n",
              "\n",
              "    .dataframe thead th {\n",
              "        text-align: right;\n",
              "    }\n",
              "</style>\n",
              "<table border=\"1\" class=\"dataframe\">\n",
              "  <thead>\n",
              "    <tr style=\"text-align: right;\">\n",
              "      <th></th>\n",
              "      <th>termo</th>\n",
              "      <th>DocumentoPorVez</th>\n",
              "      <th>tempoExec_DocVez</th>\n",
              "    </tr>\n",
              "  </thead>\n",
              "  <tbody>\n",
              "    <tr>\n",
              "      <th>0</th>\n",
              "      <td>escola</td>\n",
              "      <td>[(9, 239), (5, 214), (4, 80), (2, 217), (2, 166), (2, 160), (2, 130), (2, 110), (2, 95), (2, 94)]</td>\n",
              "      <td>0.000958</td>\n",
              "    </tr>\n",
              "    <tr>\n",
              "      <th>1</th>\n",
              "      <td>bolsonaro</td>\n",
              "      <td>[(46, 151), (37, 166), (35, 207), (26, 19), (12, 216), (12, 208), (12, 42), (8, 235), (8, 225), (8, 111)]</td>\n",
              "      <td>0.001430</td>\n",
              "    </tr>\n",
              "    <tr>\n",
              "      <th>2</th>\n",
              "      <td>lula</td>\n",
              "      <td>[(9, 15), (3, 234), (3, 216), (2, 226), (2, 204), (2, 168), (1, 238), (1, 236), (1, 172), (1, 138)]</td>\n",
              "      <td>0.000403</td>\n",
              "    </tr>\n",
              "    <tr>\n",
              "      <th>3</th>\n",
              "      <td>universidades</td>\n",
              "      <td>[(6, 130), (3, 110), (2, 216), (2, 115), (1, 214), (1, 155), (1, 129), (1, 92), (1, 69), (1, 34)]</td>\n",
              "      <td>0.000377</td>\n",
              "    </tr>\n",
              "    <tr>\n",
              "      <th>4</th>\n",
              "      <td>infantil</td>\n",
              "      <td>[(4, 203), (2, 198), (2, 31), (1, 242), (1, 186), (1, 184), (1, 180), (1, 147), (1, 52)]</td>\n",
              "      <td>0.000351</td>\n",
              "    </tr>\n",
              "  </tbody>\n",
              "</table>\n",
              "</div>"
            ],
            "text/plain": [
              "           termo  \\\n",
              "0         escola   \n",
              "1      bolsonaro   \n",
              "2           lula   \n",
              "3  universidades   \n",
              "4       infantil   \n",
              "\n",
              "                                                                                             DocumentoPorVez  \\\n",
              "0          [(9, 239), (5, 214), (4, 80), (2, 217), (2, 166), (2, 160), (2, 130), (2, 110), (2, 95), (2, 94)]   \n",
              "1  [(46, 151), (37, 166), (35, 207), (26, 19), (12, 216), (12, 208), (12, 42), (8, 235), (8, 225), (8, 111)]   \n",
              "2        [(9, 15), (3, 234), (3, 216), (2, 226), (2, 204), (2, 168), (1, 238), (1, 236), (1, 172), (1, 138)]   \n",
              "3          [(6, 130), (3, 110), (2, 216), (2, 115), (1, 214), (1, 155), (1, 129), (1, 92), (1, 69), (1, 34)]   \n",
              "4                   [(4, 203), (2, 198), (2, 31), (1, 242), (1, 186), (1, 184), (1, 180), (1, 147), (1, 52)]   \n",
              "\n",
              "   tempoExec_DocVez  \n",
              "0          0.000958  \n",
              "1          0.001430  \n",
              "2          0.000403  \n",
              "3          0.000377  \n",
              "4          0.000351  "
            ]
          },
          "metadata": {
            "tags": []
          },
          "execution_count": 448
        }
      ]
    },
    {
      "cell_type": "markdown",
      "metadata": {
        "id": "H6FpeX5Gardy",
        "colab_type": "text"
      },
      "source": [
        "## Consultas Termo por vez"
      ]
    },
    {
      "cell_type": "code",
      "metadata": {
        "id": "qnbJQunebDpi",
        "colab_type": "code",
        "outputId": "1d48af8e-5679-48e1-c253-7a989d4edd73",
        "colab": {
          "base_uri": "https://localhost:8080/",
          "height": 289
        }
      },
      "source": [
        "## Estrutura para armazenamento dos resultados das pesquisas, para futura conversão em coluna de tabela\n",
        "termAtTimeResult = []\n",
        "\n",
        "## Estrutura para armazenamento dos tempos de execução, para futura conversão em coluna de tabela\n",
        "tempoResultados = []\n",
        "\n",
        "## Variáveis auxiliares para calcular o tempo de execução\n",
        "tempoInicial = 0\n",
        "tempoFinal = 0\n",
        "\n",
        "for pesquisa in consultas:\n",
        "  tempoInicial = time.time()\n",
        "  consulta = termAtTimeRetrieval(pesquisa, invertedIndex, 10)\n",
        "  tempoFinal = time.time()\n",
        "  tempo = tempoFinal - tempoInicial\n",
        "  tempoResultados.append(tempo)\n",
        "  termAtTimeResult.append(consulta)\n",
        "\n",
        "\n",
        "table['TermoPorVez'] = termAtTimeResult\n",
        "table['tempoExec_TermVez'] = tempoResultados\n",
        "\n",
        "table"
      ],
      "execution_count": 449,
      "outputs": [
        {
          "output_type": "execute_result",
          "data": {
            "text/html": [
              "<div>\n",
              "<style scoped>\n",
              "    .dataframe tbody tr th:only-of-type {\n",
              "        vertical-align: middle;\n",
              "    }\n",
              "\n",
              "    .dataframe tbody tr th {\n",
              "        vertical-align: top;\n",
              "    }\n",
              "\n",
              "    .dataframe thead th {\n",
              "        text-align: right;\n",
              "    }\n",
              "</style>\n",
              "<table border=\"1\" class=\"dataframe\">\n",
              "  <thead>\n",
              "    <tr style=\"text-align: right;\">\n",
              "      <th></th>\n",
              "      <th>termo</th>\n",
              "      <th>DocumentoPorVez</th>\n",
              "      <th>tempoExec_DocVez</th>\n",
              "      <th>TermoPorVez</th>\n",
              "      <th>tempoExec_TermVez</th>\n",
              "    </tr>\n",
              "  </thead>\n",
              "  <tbody>\n",
              "    <tr>\n",
              "      <th>0</th>\n",
              "      <td>escola</td>\n",
              "      <td>[(9, 239), (5, 214), (4, 80), (2, 217), (2, 166), (2, 160), (2, 130), (2, 110), (2, 95), (2, 94)]</td>\n",
              "      <td>0.000958</td>\n",
              "      <td>[(9, 239), (5, 214), (4, 80), (2, 217), (2, 166), (2, 160), (2, 130), (2, 110), (2, 95), (2, 94)]</td>\n",
              "      <td>0.000059</td>\n",
              "    </tr>\n",
              "    <tr>\n",
              "      <th>1</th>\n",
              "      <td>bolsonaro</td>\n",
              "      <td>[(46, 151), (37, 166), (35, 207), (26, 19), (12, 216), (12, 208), (12, 42), (8, 235), (8, 225), (8, 111)]</td>\n",
              "      <td>0.001430</td>\n",
              "      <td>[(46, 151), (37, 166), (35, 207), (26, 19), (12, 216), (12, 208), (12, 42), (8, 235), (8, 225), (8, 111)]</td>\n",
              "      <td>0.000097</td>\n",
              "    </tr>\n",
              "    <tr>\n",
              "      <th>2</th>\n",
              "      <td>lula</td>\n",
              "      <td>[(9, 15), (3, 234), (3, 216), (2, 226), (2, 204), (2, 168), (1, 238), (1, 236), (1, 172), (1, 138)]</td>\n",
              "      <td>0.000403</td>\n",
              "      <td>[(9, 15), (3, 234), (3, 216), (2, 226), (2, 204), (2, 168), (1, 238), (1, 236), (1, 172), (1, 138)]</td>\n",
              "      <td>0.000040</td>\n",
              "    </tr>\n",
              "    <tr>\n",
              "      <th>3</th>\n",
              "      <td>universidades</td>\n",
              "      <td>[(6, 130), (3, 110), (2, 216), (2, 115), (1, 214), (1, 155), (1, 129), (1, 92), (1, 69), (1, 34)]</td>\n",
              "      <td>0.000377</td>\n",
              "      <td>[(6, 130), (3, 110), (2, 216), (2, 115), (1, 214), (1, 155), (1, 129), (1, 92), (1, 69), (1, 34)]</td>\n",
              "      <td>0.000024</td>\n",
              "    </tr>\n",
              "    <tr>\n",
              "      <th>4</th>\n",
              "      <td>infantil</td>\n",
              "      <td>[(4, 203), (2, 198), (2, 31), (1, 242), (1, 186), (1, 184), (1, 180), (1, 147), (1, 52)]</td>\n",
              "      <td>0.000351</td>\n",
              "      <td>[(4, 203), (2, 198), (2, 31), (1, 242), (1, 186), (1, 184), (1, 180), (1, 147), (1, 52)]</td>\n",
              "      <td>0.000014</td>\n",
              "    </tr>\n",
              "  </tbody>\n",
              "</table>\n",
              "</div>"
            ],
            "text/plain": [
              "           termo  \\\n",
              "0         escola   \n",
              "1      bolsonaro   \n",
              "2           lula   \n",
              "3  universidades   \n",
              "4       infantil   \n",
              "\n",
              "                                                                                             DocumentoPorVez  \\\n",
              "0          [(9, 239), (5, 214), (4, 80), (2, 217), (2, 166), (2, 160), (2, 130), (2, 110), (2, 95), (2, 94)]   \n",
              "1  [(46, 151), (37, 166), (35, 207), (26, 19), (12, 216), (12, 208), (12, 42), (8, 235), (8, 225), (8, 111)]   \n",
              "2        [(9, 15), (3, 234), (3, 216), (2, 226), (2, 204), (2, 168), (1, 238), (1, 236), (1, 172), (1, 138)]   \n",
              "3          [(6, 130), (3, 110), (2, 216), (2, 115), (1, 214), (1, 155), (1, 129), (1, 92), (1, 69), (1, 34)]   \n",
              "4                   [(4, 203), (2, 198), (2, 31), (1, 242), (1, 186), (1, 184), (1, 180), (1, 147), (1, 52)]   \n",
              "\n",
              "   tempoExec_DocVez  \\\n",
              "0          0.000958   \n",
              "1          0.001430   \n",
              "2          0.000403   \n",
              "3          0.000377   \n",
              "4          0.000351   \n",
              "\n",
              "                                                                                                 TermoPorVez  \\\n",
              "0          [(9, 239), (5, 214), (4, 80), (2, 217), (2, 166), (2, 160), (2, 130), (2, 110), (2, 95), (2, 94)]   \n",
              "1  [(46, 151), (37, 166), (35, 207), (26, 19), (12, 216), (12, 208), (12, 42), (8, 235), (8, 225), (8, 111)]   \n",
              "2        [(9, 15), (3, 234), (3, 216), (2, 226), (2, 204), (2, 168), (1, 238), (1, 236), (1, 172), (1, 138)]   \n",
              "3          [(6, 130), (3, 110), (2, 216), (2, 115), (1, 214), (1, 155), (1, 129), (1, 92), (1, 69), (1, 34)]   \n",
              "4                   [(4, 203), (2, 198), (2, 31), (1, 242), (1, 186), (1, 184), (1, 180), (1, 147), (1, 52)]   \n",
              "\n",
              "   tempoExec_TermVez  \n",
              "0           0.000059  \n",
              "1           0.000097  \n",
              "2           0.000040  \n",
              "3           0.000024  \n",
              "4           0.000014  "
            ]
          },
          "metadata": {
            "tags": []
          },
          "execution_count": 449
        }
      ]
    },
    {
      "cell_type": "markdown",
      "metadata": {
        "id": "YoLfM96Ms39M",
        "colab_type": "text"
      },
      "source": [
        "## Evidenciando a corretude das implementações"
      ]
    },
    {
      "cell_type": "markdown",
      "metadata": {
        "id": "0vbUSJKWtRWa",
        "colab_type": "text"
      },
      "source": [
        "Ao compararmos as consultas das colunas DocumentoPorVez e TermoPorVez podemos perceber que temos o mesmo resultado, indicando que de fato ambos algoritimos estão concordando entre si."
      ]
    },
    {
      "cell_type": "markdown",
      "metadata": {
        "id": "_YpLSJtUs74h",
        "colab_type": "text"
      },
      "source": [
        "## Sobre os tempos de execução dos algoritimos e uso de memória"
      ]
    },
    {
      "cell_type": "markdown",
      "metadata": {
        "id": "HfpcV__5wVsB",
        "colab_type": "text"
      },
      "source": [
        "É possível perceber que o algoritimo termoPorVez nos retorna uma resposta em um tempo consideravelmente menor quando levamos em consideração o algoritimo documentoPorVez, isso acontece porque a abordagem documentoPorVez calcula scores completos para documentos, processando todas as listas de termos, um documento por vez, enquanto que a abordagem termoPorVez acumula scores processando listas de termos o que requer um tempo consideravelmente menor. Na própria tabela podemos perceber a diferença relatada. Para fins didáticos resolvi plotar em um gráfico as diferenças de tempo de execução, onde a linha em azul reflete o tempo de execução do algoritimo documentoPorVez e linha amarela reflete o tempo de execução do algoritimo termoPorVez.\n"
      ]
    },
    {
      "cell_type": "code",
      "metadata": {
        "id": "DkULATSEvsTZ",
        "colab_type": "code",
        "colab": {
          "base_uri": "https://localhost:8080/",
          "height": 449
        },
        "outputId": "60b8edc4-7c87-4614-89f1-3551a57dc6a5"
      },
      "source": [
        "f, ax = plt.subplots(figsize=(7, 7))\n",
        "ax.set(xscale=\"linear\", yscale=\"linear\")\n",
        "plt.plot(table[\"termo\"], \n",
        "         table[\"tempoExec_DocVez\"],\n",
        "         linestyle='-',\n",
        "         marker='')\n",
        "\n",
        "\n",
        "plt.plot(table[\"termo\"],\n",
        "         table[\"tempoExec_TermVez\"],\n",
        "         linestyle='-',\n",
        "         marker='')"
      ],
      "execution_count": 450,
      "outputs": [
        {
          "output_type": "execute_result",
          "data": {
            "text/plain": [
              "[<matplotlib.lines.Line2D at 0x7f1bdc1f30b8>]"
            ]
          },
          "metadata": {
            "tags": []
          },
          "execution_count": 450
        },
        {
          "output_type": "display_data",
          "data": {
            "image/png": "[encoded data removed]",
            "text/plain": [
              "<Figure size 504x504 with 1 Axes>"
            ]
          },
          "metadata": {
            "tags": []
          }
        }
      ]
    },
    {
      "cell_type": "markdown",
      "metadata": {
        "id": "kd3RQlt7sFGy",
        "colab_type": "text"
      },
      "source": [
        "Quanto ao uso de memória, tentei utilizar algumas opções mas em todas elas o consumo de memória resultou em números iguais, não sei o motivo para tal acontecimento, entretanto fica aqui registrado como tentei calcular o uso de memória."
      ]
    },
    {
      "cell_type": "code",
      "metadata": {
        "id": "5zwEIHDdqvzz",
        "colab_type": "code",
        "colab": {
          "base_uri": "https://localhost:8080/",
          "height": 612
        },
        "outputId": "8ae751ef-8fd4-4f4c-8fc8-d373e9f41865"
      },
      "source": [
        "for consulta in consultas:\n",
        "  print(\"Para o termo: \" + consulta) \n",
        "  print(\"Memoria - DOCUMENT POR VEZ\")\n",
        "  %memit documentAtTimeRetrieval(consulta, invertedIndex, 10, dataframe)\n",
        "  print(\"  \")\n",
        "  print(\"Memoria - TERMO POR VEZ\")\n",
        "  %memit termAtTimeRetrieval(consulta, invertedIndex, 10)\n",
        "  print(\"%%%%%%%%%\")"
      ],
      "execution_count": 451,
      "outputs": [
        {
          "output_type": "stream",
          "text": [
            "Para o termo: escola\n",
            "Memoria - DOCUMENT POR VEZ\n",
            "peak memory: 278.44 MiB, increment: 0.00 MiB\n",
            "  \n",
            "Memoria - TERMO POR VEZ\n",
            "peak memory: 278.44 MiB, increment: 0.00 MiB\n",
            "%%%%%%%%%\n",
            "Para o termo: bolsonaro\n",
            "Memoria - DOCUMENT POR VEZ\n",
            "peak memory: 278.46 MiB, increment: 0.00 MiB\n",
            "  \n",
            "Memoria - TERMO POR VEZ\n",
            "peak memory: 278.46 MiB, increment: 0.00 MiB\n",
            "%%%%%%%%%\n",
            "Para o termo: lula\n",
            "Memoria - DOCUMENT POR VEZ\n",
            "peak memory: 278.46 MiB, increment: 0.00 MiB\n",
            "  \n",
            "Memoria - TERMO POR VEZ\n",
            "peak memory: 278.46 MiB, increment: 0.00 MiB\n",
            "%%%%%%%%%\n",
            "Para o termo: universidades\n",
            "Memoria - DOCUMENT POR VEZ\n",
            "peak memory: 278.46 MiB, increment: 0.00 MiB\n",
            "  \n",
            "Memoria - TERMO POR VEZ\n",
            "peak memory: 278.46 MiB, increment: 0.00 MiB\n",
            "%%%%%%%%%\n",
            "Para o termo: infantil\n",
            "Memoria - DOCUMENT POR VEZ\n",
            "peak memory: 278.46 MiB, increment: 0.00 MiB\n",
            "  \n",
            "Memoria - TERMO POR VEZ\n",
            "peak memory: 278.46 MiB, increment: 0.00 MiB\n",
            "%%%%%%%%%\n"
          ],
          "name": "stdout"
        }
      ]
    },
    {
      "cell_type": "markdown",
      "metadata": {
        "id": "w18iz9wttAv8",
        "colab_type": "text"
      },
      "source": [
        "# Questão 3"
      ]
    },
    {
      "cell_type": "code",
      "metadata": {
        "id": "lA_aUvNzDBEl",
        "colab_type": "code",
        "colab": {
          "base_uri": "https://localhost:8080/",
          "height": 34
        },
        "outputId": "0b991939-f6cc-4333-97be-0812a64d730f"
      },
      "source": [
        "def conj_and(terms, invertedIndex, k):\n",
        "  indexes = []\n",
        "  rank = []\n",
        "  \n",
        "  ##Para cada termo recebido, se este termo está contindo nas chaves do meu IndiceInvertido construído anteriormente adicione na minha estrutura de listas invertidas \n",
        "  for term in terms.split():\n",
        "    if term in invertedIndex.keys():\n",
        "        indexes.append(invertedIndex[term])\n",
        "  \n",
        "  termos = [item for sublist in indexes for item in sublist]\n",
        "  termos.sort()\n",
        "  for i in range(len(termos)):\n",
        "    score = 0\n",
        "    d = termos.pop()\n",
        "    aux = 1\n",
        "    for index in termos:\n",
        "      if index[0] == d[0]:\n",
        "        score += index[1] + d[1]\n",
        "        aux += 1\n",
        "    if score != 0 and aux == len(indexes):\n",
        "      hp.heappush(rank, (d[0], score))\n",
        "  \n",
        "\n",
        "  return hp.nlargest(k, rank)\n",
        "\n",
        "conj_and('juíza federal', invertedIndex, 10)\n"
      ],
      "execution_count": 452,
      "outputs": [
        {
          "output_type": "execute_result",
          "data": {
            "text/plain": [
              "[(2, 3), (1, 4)]"
            ]
          },
          "metadata": {
            "tags": []
          },
          "execution_count": 452
        }
      ]
    },
    {
      "cell_type": "markdown",
      "metadata": {
        "id": "_kXcEtVSldDI",
        "colab_type": "text"
      },
      "source": [
        "## Consultas"
      ]
    },
    {
      "cell_type": "code",
      "metadata": {
        "id": "MuqlG3PXlf9z",
        "colab_type": "code",
        "colab": {}
      },
      "source": [
        "consultas = ['crise econômica','presidente república', 'lula livre', 'universidades federais', 'crianças inteligentes', 'juíza federal']\n",
        "resultadosExecucao = []\n",
        "\n",
        "for consulta in consultas:\n",
        "  resultado = conj_and(consulta, invertedIndex, 10)\n",
        "  resultadosExecucao.append(resultado)"
      ],
      "execution_count": 0,
      "outputs": []
    },
    {
      "cell_type": "markdown",
      "metadata": {
        "id": "XmAgiLVQmihf",
        "colab_type": "text"
      },
      "source": [
        "### Crianda uma tabela com os dados das consultas"
      ]
    },
    {
      "cell_type": "code",
      "metadata": {
        "id": "wh0amUO1mmau",
        "colab_type": "code",
        "colab": {
          "base_uri": "https://localhost:8080/",
          "height": 235
        },
        "outputId": "a7bd3a7f-66ea-44a2-e1b2-55fcd24ec83d"
      },
      "source": [
        "table2 = pd.DataFrame()\n",
        "table2['Termos'] = consultas\n",
        "table2['Resultado'] = resultadosExecucao\n",
        "table2.index+=1\n",
        "table2"
      ],
      "execution_count": 454,
      "outputs": [
        {
          "output_type": "execute_result",
          "data": {
            "text/html": [
              "<div>\n",
              "<style scoped>\n",
              "    .dataframe tbody tr th:only-of-type {\n",
              "        vertical-align: middle;\n",
              "    }\n",
              "\n",
              "    .dataframe tbody tr th {\n",
              "        vertical-align: top;\n",
              "    }\n",
              "\n",
              "    .dataframe thead th {\n",
              "        text-align: right;\n",
              "    }\n",
              "</style>\n",
              "<table border=\"1\" class=\"dataframe\">\n",
              "  <thead>\n",
              "    <tr style=\"text-align: right;\">\n",
              "      <th></th>\n",
              "      <th>Termos</th>\n",
              "      <th>Resultado</th>\n",
              "    </tr>\n",
              "  </thead>\n",
              "  <tbody>\n",
              "    <tr>\n",
              "      <th>1</th>\n",
              "      <td>crise econômica</td>\n",
              "      <td>[(249, 2), (248, 2), (178, 2), (167, 2), (165, 2), (152, 2), (150, 2), (138, 6), (129, 5), (87, 3)]</td>\n",
              "    </tr>\n",
              "    <tr>\n",
              "      <th>2</th>\n",
              "      <td>presidente república</td>\n",
              "      <td>[(229, 6), (225, 6), (223, 5), (222, 4), (215, 6), (208, 6), (207, 6), (206, 4), (174, 8), (173, 7)]</td>\n",
              "    </tr>\n",
              "    <tr>\n",
              "      <th>3</th>\n",
              "      <td>lula livre</td>\n",
              "      <td>[(238, 2), (172, 2), (26, 2)]</td>\n",
              "    </tr>\n",
              "    <tr>\n",
              "      <th>4</th>\n",
              "      <td>universidades federais</td>\n",
              "      <td>[]</td>\n",
              "    </tr>\n",
              "    <tr>\n",
              "      <th>5</th>\n",
              "      <td>crianças inteligentes</td>\n",
              "      <td>[]</td>\n",
              "    </tr>\n",
              "    <tr>\n",
              "      <th>6</th>\n",
              "      <td>juíza federal</td>\n",
              "      <td>[(2, 3), (1, 4)]</td>\n",
              "    </tr>\n",
              "  </tbody>\n",
              "</table>\n",
              "</div>"
            ],
            "text/plain": [
              "                   Termos  \\\n",
              "1         crise econômica   \n",
              "2    presidente república   \n",
              "3              lula livre   \n",
              "4  universidades federais   \n",
              "5   crianças inteligentes   \n",
              "6           juíza federal   \n",
              "\n",
              "                                                                                              Resultado  \n",
              "1   [(249, 2), (248, 2), (178, 2), (167, 2), (165, 2), (152, 2), (150, 2), (138, 6), (129, 5), (87, 3)]  \n",
              "2  [(229, 6), (225, 6), (223, 5), (222, 4), (215, 6), (208, 6), (207, 6), (206, 4), (174, 8), (173, 7)]  \n",
              "3                                                                         [(238, 2), (172, 2), (26, 2)]  \n",
              "4                                                                                                    []  \n",
              "5                                                                                                    []  \n",
              "6                                                                                      [(2, 3), (1, 4)]  "
            ]
          },
          "metadata": {
            "tags": []
          },
          "execution_count": 454
        }
      ]
    },
    {
      "cell_type": "markdown",
      "metadata": {
        "id": "oTBhs64GexVy",
        "colab_type": "text"
      },
      "source": [
        "## Comprovando a corretude do algoritimo"
      ]
    },
    {
      "cell_type": "markdown",
      "metadata": {
        "id": "qntmOGnEgak2",
        "colab_type": "text"
      },
      "source": [
        "Ao executarmos  o algoritimo elaborado na sessão anterior para os termos  \"juíza federal\", obetemos o resultado de que existe a ocorrência dos dois termos  nos documentos 1 e 2. No documento 1, segundo o resultado do algoritimo temos a ocorrencia dessas palavras 4 vezes e no documento 2 a ocorrência dessas palavras 3 vezes. Ao selecionarmos tais documentos manualmente e fazermos uma busca desses termos por força bruta, destacando-os em negrito, podemos perceber que de fato no documento 1 temos a ocorrência 4 vezes e no documento 2 a ocorrencia 3 vezes."
      ]
    },
    {
      "cell_type": "code",
      "metadata": {
        "id": "XTZWz2cte2Sk",
        "colab_type": "code",
        "colab": {
          "base_uri": "https://localhost:8080/",
          "height": 54
        },
        "outputId": "fd10dc11-73f6-4298-8984-2739f0ac4fcf"
      },
      "source": [
        "dataframe.loc[0, 'treatedText']"
      ],
      "execution_count": 455,
      "outputs": [
        {
          "output_type": "execute_result",
          "data": {
            "text/plain": [
              "'a juíza federal ivani silva da luz  de brasília  proibiu em caráter liminar nesta sexta feira as forças armadas de comemorarem  especialmente com uso de dinheiro público  o 55  aniversário do golpe de estado que em 1964 instaurou a ditadura militar no brasil    os militares preferem o 31 de março ao 1  de abril   partiu do presidente de ultradireita  jair bolsonaro  que depois tentou suavizar a ordem citando que era um dia para  rememorar  para silva da luz  o texto divulgado pelo ministério da defesa como  ordem do dia alusiva ao 31 de março de 1964   já lida em alguns quartéis   não é compatível com o processo de reconstrução democrática  promovido pela constituição de 1988   desobedece ao princípio da prevalência dos direitos humanos  e ignora a decisão da corte interamericana de direitos humanos de 2018 que condenou o estado brasileiro a apurar  julgar os responsáveis pela morte do jornalista vladimir herzog na ditadura militar a magistrada  que também pontua que datas comemorativas devem ser aprovadas pelo congresso  justapõe o texto chancelado pelas forças armadas com o discurso do presidente da assembleia constituinte  ulysses guimarães  na promulgação da carta em 1988  para a juíza  o texto dos militares é uma  celebração à ruptura política deflagrada pelas forças armadas  ao dizer que os golpistas  agiram conforme os anseios da nação brasileira   na dura sentença  silva da luz diz que a mensagem  desobedece ao princípio da prevalência dos direitos humanos  e contraria o compromisso com os valores democráticos  canalizado pelo discurso do presidente da assembleia nacional constituinte   a sentença cita trechos da fala de ulysses guimarães   a sociedade foi rubens paiva  não os facínoras que o mataram   disse em 1988 emedebista em referência o porta voz da presidência   não comentou a decisão   o que nós tínhamos de falar ao longo da semana  já falamos  não temos mais nada para comentar   disse nesta sexta  segundo a   o ministério da defesa informou não ter recebido a decisão que proíbe a ordem do dia  que ainda estava  até a publicação desta reportagem  disponível nos sites da marinha  exército e aeronáutica a proibição legal traz ainda mais tensão para o fim de semana  já avançada a sexta feira  o ministro do stf  supremo tribunal federal   gilmar mendes  se negou a dar seguimento a um mandado de segurança apresentado por parentes de vítimas da ditadura e pelo instituto vladimir herzog para suspender atos em comemoração do golpe militar de 1964  mendes não entrou no mérito da questão  afirmando que o instrumento legal não se aplicava  ainda assim  usou sua sentença para comentar a questão e repetir elogiosamente a definição do presidente da corte  antonio dias toffoli  que disse no passado   hoje  não me refiro nem mais a golpe nem a revolução  me refiro a movimento de 1964   a frase     a interpretação é vesgamente enviesada  procura um  que não existe em história e tem como resultado a  do golpe e dos golpistas  no limite  e este limite foi agora ultrapassado pelo toffoli  preconizam deixar de se falar em ditadura   disse ao el país o o historiador  '"
            ]
          },
          "metadata": {
            "tags": []
          },
          "execution_count": 455
        }
      ]
    },
    {
      "cell_type": "markdown",
      "metadata": {
        "id": "7hQx3MYQoZk4",
        "colab_type": "text"
      },
      "source": [
        "### Texto com palavras pesquisadas em Highlights"
      ]
    },
    {
      "cell_type": "markdown",
      "metadata": {
        "id": "SqIhgDQXfaMJ",
        "colab_type": "text"
      },
      "source": [
        "a **juíza** **federal** ivani silva da luz  de brasília  proibiu em caráter liminar nesta sexta feira as forças armadas de comemorarem  especialmente com uso de dinheiro público  o 55  aniversário do golpe de estado que em 1964 instaurou a ditadura militar no brasil    os militares preferem o 31 de março ao 1  de abril   partiu do presidente de ultradireita  jair bolsonaro  que depois tentou suavizar a ordem citando que era um dia para  rememorar  para silva da luz  o texto divulgado pelo ministério da defesa como  ordem do dia alusiva ao 31 de março de 1964   já lida em alguns quartéis   não é compatível com o processo de reconstrução democrática  promovido pela constituição de 1988   desobedece ao princípio da prevalência dos direitos humanos  e ignora a decisão da corte interamericana de direitos humanos de 2018 que condenou o estado brasileiro a apurar  julgar os responsáveis pela morte do jornalista vladimir herzog na ditadura militar a magistrada  que também pontua que datas comemorativas devem ser aprovadas pelo congresso  justapõe o texto chancelado pelas forças armadas com o discurso do presidente da assembleia constituinte  ulysses guimarães  na promulgação da carta em 1988  para a **juíza**  o texto dos militares é uma  celebração à ruptura política deflagrada pelas forças armadas  ao dizer que os golpistas  agiram conforme os anseios da nação brasileira   na dura sentença  silva da luz diz que a mensagem  desobedece ao princípio da prevalência dos direitos humanos  e contraria o compromisso com os valores democráticos  canalizado pelo discurso do presidente da assembleia nacional constituinte   a sentença cita trechos da fala de ulysses guimarães   a sociedade foi rubens paiva  não os facínoras que o mataram   disse em 1988 emedebista em referência o porta voz da presidência   não comentou a decisão   o que nós tínhamos de falar ao longo da semana  já falamos  não temos mais nada para comentar   disse nesta sexta  segundo a   o ministério da defesa informou não ter recebido a decisão que proíbe a ordem do dia  que ainda estava  até a publicação desta reportagem  disponível nos sites da marinha  exército e aeronáutica a proibição legal traz ainda mais tensão para o fim de semana  já avançada a sexta feira  o ministro do stf  supremo tribunal **federal**   gilmar mendes  se negou a dar seguimento a um mandado de segurança apresentado por parentes de vítimas da ditadura e pelo instituto vladimir herzog para suspender atos em comemoração do golpe militar de 1964  mendes não entrou no mérito da questão  afirmando que o instrumento legal não se aplicava  ainda assim  usou sua sentença para comentar a questão e repetir elogiosamente a definição do presidente da corte  antonio dias toffoli  que disse no passado   hoje  não me refiro nem mais a golpe nem a revolução  me refiro a movimento de 1964   a frase     a interpretação é vesgamente enviesada  procura um  que não existe em história e tem como resultado a  do golpe e dos golpistas  no limite  e este limite foi agora ultrapassado pelo toffoli  preconizam deixar de se falar em ditadura   disse ao el país o o historiador"
      ]
    },
    {
      "cell_type": "code",
      "metadata": {
        "id": "aBcFdz0Mfosv",
        "colab_type": "code",
        "colab": {
          "base_uri": "https://localhost:8080/",
          "height": 54
        },
        "outputId": "6d80c092-7f92-4299-8c41-70a9da927cf6"
      },
      "source": [
        "dataframe.loc[1, 'treatedText']"
      ],
      "execution_count": 456,
      "outputs": [
        {
          "output_type": "execute_result",
          "data": {
            "text/plain": [
              "'menos de 24 horas depois de a juíza federal ivani silva da luz   que completa 55 anos neste domingo  a justiça federal derrubou a decisão  por meio de uma liminar  a justiça proibiu  na noite desta sexta feira  as comemorações do golpe  especialmente com o uso de dinheiro público  mas a advocacia geral da união  agu  recorreu poucas horas depois e  na manhã deste sábado  a desembargadora maria do carmo cardoso cassou a liminar  partiu do presidente de ultradireita  jair bolsonaro  que  após a polêmica em torno do caso  tentou suavizar a ordem afirmando que era um dia para  rememorar   a defensoria pública da união entrou então com um pedido de suspensão das celebrações  afirmando que qualquer evento relacionado ao golpe militar feria a memória e as verdades históricas mas na visão da agu  as ações propostas pela defensoria não preenchiam os requisitos necessários para a concessão de uma liminar  se fosse mantida  a decisão poderia  na visão da agu   afetar a separação de visões constitucionais do estado   a advocacia alega que a defensoria deveria atuar  primordialmente na defesa de pessoas carentes de recursos econômicos ou necessitados jurídicos   o que não cabe nesse caso '"
            ]
          },
          "metadata": {
            "tags": []
          },
          "execution_count": 456
        }
      ]
    },
    {
      "cell_type": "markdown",
      "metadata": {
        "id": "K_oPQbDQoYaK",
        "colab_type": "text"
      },
      "source": [
        "### Texto com palavras pesquisadas em Highlights"
      ]
    },
    {
      "cell_type": "markdown",
      "metadata": {
        "id": "r3_G51NsfuM5",
        "colab_type": "text"
      },
      "source": [
        "menos de 24 horas depois de a **juíza**  **federal** ivani silva da luz   que completa 55 anos neste domingo  a justiça **federal** derrubou a decisão  por meio de uma liminar  a justiça proibiu  na noite desta sexta feira  as comemorações do golpe  especialmente com o uso de dinheiro público  mas a advocacia geral da união  agu  recorreu poucas horas depois e  na manhã deste sábado  a desembargadora maria do carmo cardoso cassou a liminar  partiu do presidente de ultradireita  jair bolsonaro  que  após a polêmica em torno do caso  tentou suavizar a ordem afirmando que era um dia para  rememorar   a defensoria pública da união entrou então com um pedido de suspensão das celebrações  afirmando que qualquer evento relacionado ao golpe militar feria a memória e as verdades históricas mas na visão da agu  as ações propostas pela defensoria não preenchiam os requisitos necessários para a concessão de uma liminar  se fosse mantida  a decisão poderia  na visão da agu   afetar a separação de visões constitucionais do estado   a advocacia alega que a defensoria deveria atuar  primordialmente na defesa de pessoas carentes de recursos econômicos ou necessitados jurídicos   o que não cabe nesse caso"
      ]
    },
    {
      "cell_type": "markdown",
      "metadata": {
        "id": "ZGz439LHhcYs",
        "colab_type": "text"
      },
      "source": [
        "## Comprovando ainda mais"
      ]
    },
    {
      "cell_type": "code",
      "metadata": {
        "id": "F9D8xZB-h6ep",
        "colab_type": "code",
        "colab": {
          "base_uri": "https://localhost:8080/",
          "height": 71
        },
        "outputId": "abfa8291-3f13-4b4b-c23c-8a4ac88b3a50"
      },
      "source": [
        "resultado = conj_and('educação infantil', invertedIndex, 10)\n",
        "print(resultado)\n",
        "dataframe.loc[202, 'treatedText']"
      ],
      "execution_count": 457,
      "outputs": [
        {
          "output_type": "stream",
          "text": [
            "[(203, 5), (147, 2)]\n"
          ],
          "name": "stdout"
        },
        {
          "output_type": "execute_result",
          "data": {
            "text/plain": [
              "'na última terça feira  o presidente   psl  e o deputado federal eduardo bolsonaro  seu filho  fizeram uma transmissão ao vivo no facebook em que  aos  e seu encontro com   no meio da transmissão  o presidente  ao falar sobre educação  citou um estudo elaborado pelo   comandado por osmar terra  mdb   a pesquisa  contava o presidente  havia feito um levantamento de 3 000 famílias que recebem  e acompanhou durante algum tempo suas crianças de zero a três anos   chegou se a conclusão que o desenvolvimento intelectual dessa garotada  de 0 a 3 anos  filhos de bolsa família  equivaliam a 1 3 da média mundial   explicava bolsonaro   realmente fica difícil  até com boas escolas  você fazer com que essa garotada  que começa errado lá atrás  tenha capacidade de fazer uma boa escola  uma boa universidade e ser um bom profissional lá na frente  são as heranças que nós temos por aí e temos que começar a mudar  não é fácil  a fala  destacada do restante do vídeo  correu como pólvora pelas redes sociais e gerou indignação  alguns enxergaram nela uma crítica ao bolsa família ou um tom discriminatório  ao estabelecer uma relação direta entre o programa social e um possível atraso no desenvolvimento intelectual de crianças que se beneficiam dele   eu  quando criança  tive o benefício do bolsa família com minha mãe e meus irmãos  éramos de origem pobre  assim como muitos  nos ajudava muito no complemento da renda em casa  hoje  formado  ganhei seis prêmios com trabalhos de fotografias e jornalismo no país   relatou no twitter o fotojornalista betinho casas novas  imediatamente antes de citar o estudo  porém  bolsonaro defendia ensinar para os jovens nas escolas que eles só vão ser felizes  na parte econômica  ralando e estudando muito   não fique esperando do estado  leve em conta a meritocracia   argumentava o presidente  mas durante a fala não ficou claro sobre o que se tratava essa pesquisa ou o contexto de sua realização questionado pelo el país  o ministério da cidadania afirmou que os dados ainda são preliminares  mas a citação de bolsonaro sobre eles não corresponde de forma precisa ao conteúdo do estudo  o levantamento indica  uma defasagem no desenvolvimento cognitivo das crianças beneficiárias  do bolsa família  de aproximadamente 35  em comparação com outras crianças da mesma faixa etária que não se encontram em situação de vulnerabilidade social   coordenador da pesquisa  o epidemiologista cesar victora afirmou durante o seminário internacional da primeira infância  realizado em brasília na última semana  que as crianças beneficiadas pelo bolsa família apresentaram um resultado médio de 0 26 em um teste de desenvolvimento infantil  enquanto que a média de países desenvolvidos seria de 0 40  segundo um índice feito com o instrumento internacional de desenvolvimento infantil asq   the ages   stages questionnaires  o estudo citado pelo presidente começou a ser feito no início de 2017 com a entrada em vigor do   voltado para a promoção do desenvolvimento infantil de crianças de zero a seis anos mais vulneráveis  a pesquisa serviu para traçar um panorama inicial das crianças mais vulneráveis e medir os impactos que o programa social planejado no governo temer terá ao longo do tempo  o bolsa família  portanto  é usado na pesquisa apenas como um recorte para delimitar a vulnerabilidade das crianças estudadas  diversos estudos e especialistas apontam que algumas condições relacionadas à extrema pobreza  como a falta de saneamento básico ou de uma alimentação adequada na primeira infância  deixam uma criança mais vulnerável a infecções e doenças que podem  de fato  afetar seu crescimento e desenvolvimento cerebral   o bolsa família atinge as famílias mais pobres do país  pobreza está fortemente associada ao baixo desenvolvimento psicomotor  como mostram inúmeros estudos brasileiros e de outros países  portanto  já era esperado que as crianças incluídas no programa criança feliz apresentassem um desempenho inferior ao observado entre crianças de países de alta renda   explicou victora  professor emérito de epidemiologia na universidade federal de pelotas  durante o seminário   efetivamente  nosso resultado justifica a implantação de um programa como o criança feliz  pois se as crianças já apresentassem desenvolvimento adequado não seria necessário intervir   acrescentou eu  quando criança  tive o benefício do bolsa família com minha mãe e meus irmãos éramos de origem pobre  assim como muitos  nos ajudava muito no complemento da renda em casa hoje  formado  ganhei seis prêmios com trabalhos de fotografias e jornalismo no país   quando o estudo começou a ser feito  em 2017  osmar terra ocupava o ministério de desenvolvimento social durante o governo michel temer  a pasta se fundiu com cultura e esportes e passou ser chamada de cidadania  diante desses resultados preliminares  o criança feliz passou a fazer visitas semanais a crianças de até três anos beneficiárias do bolsa família um programa que desde a era temer tem sofrido cortes   os visitadores realizam atividades que orientam as famílias a impulsionar o desenvolvimento cognitivo  motor  socioafetivo e da linguagem das crianças  visando diminuir esta defasagem constatada nos resultados preliminares   explica o ministério da cidadania por meio dessa pesquisa  que é feita de forma contínua  o ministério também consegue acompanhar os resultados do programa social no desenvolvimento infantil das crianças  o teste  identifica funções cognitivas e intelectuais e mede as reações das crianças de acordo com os estímulos e atividades desenvolvidos   um total 3 000 crianças estão sendo avaliadas  sendo 1 500 atendidas pelo   a conclusão final da pesquisa está prevista para 2022 '"
            ]
          },
          "metadata": {
            "tags": []
          },
          "execution_count": 457
        }
      ]
    },
    {
      "cell_type": "markdown",
      "metadata": {
        "id": "hy3pllGwoOje",
        "colab_type": "text"
      },
      "source": [
        "### Texto com palavras pesquisadas em Highlights"
      ]
    },
    {
      "cell_type": "markdown",
      "metadata": {
        "id": "_AxStS0qifUh",
        "colab_type": "text"
      },
      "source": [
        "na última terça feira  o presidente   psl  e o deputado federal eduardo bolsonaro  seu filho  fizeram uma transmissão ao vivo no facebook em que  aos  e seu encontro com   no meio da transmissão  o presidente  ao falar sobre **educação**  citou um estudo elaborado pelo   comandado por osmar terra  mdb   a pesquisa  contava o presidente  havia feito um levantamento de 3 000 famílias que recebem  e acompanhou durante algum tempo suas crianças de zero a três anos   chegou se a conclusão que o desenvolvimento intelectual dessa garotada  de 0 a 3 anos  filhos de bolsa família  equivaliam a 1 3 da média mundial   explicava bolsonaro   realmente fica difícil  até com boas escolas  você fazer com que essa garotada  que começa errado lá atrás  tenha capacidade de fazer uma boa escola  uma boa universidade e ser um bom profissional lá na frente  são as heranças que nós temos por aí e temos que começar a mudar  não é fácil  a fala  destacada do restante do vídeo  correu como pólvora pelas redes sociais e gerou indignação  alguns enxergaram nela uma crítica ao bolsa família ou um tom discriminatório  ao estabelecer uma relação direta entre o programa social e um possível atraso no desenvolvimento intelectual de crianças que se beneficiam dele   eu  quando criança  tive o benefício do bolsa família com minha mãe e meus irmãos  éramos de origem pobre  assim como muitos  nos ajudava muito no complemento da renda em casa  hoje  formado  ganhei seis prêmios com trabalhos de fotografias e jornalismo no país   relatou no twitter o fotojornalista betinho casas novas  imediatamente antes de citar o estudo  porém  bolsonaro defendia ensinar para os jovens nas escolas que eles só vão ser felizes  na parte econômica  ralando e estudando muito   não fique esperando do estado  leve em conta a meritocracia   argumentava o presidente  mas durante a fala não ficou claro sobre o que se tratava essa pesquisa ou o contexto de sua realização questionado pelo el país  o ministério da cidadania afirmou que os dados ainda são preliminares  mas a citação de bolsonaro sobre eles não corresponde de forma precisa ao conteúdo do estudo  o levantamento indica  uma defasagem no desenvolvimento cognitivo das crianças beneficiárias  do bolsa família  de aproximadamente 35  em comparação com outras crianças da mesma faixa etária que não se encontram em situação de vulnerabilidade social   coordenador da pesquisa  o epidemiologista cesar victora afirmou durante o seminário internacional da primeira infância  realizado em brasília na última semana  que as crianças beneficiadas pelo bolsa família apresentaram um resultado médio de 0 26 em um teste de desenvolvimento **infantil**  enquanto que a média de países desenvolvidos seria de 0 40  segundo um índice feito com o instrumento internacional de desenvolvimento **infantil** asq   the ages   stages questionnaires  o estudo citado pelo presidente começou a ser feito no início de 2017 com a entrada em vigor do   voltado para a promoção do desenvolvimento **infantil** de crianças de zero a seis anos mais vulneráveis  a pesquisa serviu para traçar um panorama inicial das crianças mais vulneráveis e medir os impactos que o programa social planejado no governo temer terá ao longo do tempo  o bolsa família  portanto  é usado na pesquisa apenas como um recorte para delimitar a vulnerabilidade das crianças estudadas  diversos estudos e especialistas apontam que algumas condições relacionadas à extrema pobreza  como a falta de saneamento básico ou de uma alimentação adequada na primeira infância  deixam uma criança mais vulnerável a infecções e doenças que podem  de fato  afetar seu crescimento e desenvolvimento cerebral   o bolsa família atinge as famílias mais pobres do país  pobreza está fortemente associada ao baixo desenvolvimento psicomotor  como mostram inúmeros estudos brasileiros e de outros países  portanto  já era esperado que as crianças incluídas no programa criança feliz apresentassem um desempenho inferior ao observado entre crianças de países de alta renda   explicou victora  professor emérito de epidemiologia na universidade federal de pelotas  durante o seminário   efetivamente  nosso resultado justifica a implantação de um programa como o criança feliz  pois se as crianças já apresentassem desenvolvimento adequado não seria necessário intervir   acrescentou eu  quando criança  tive o benefício do bolsa família com minha mãe e meus irmãos éramos de origem pobre  assim como muitos  nos ajudava muito no complemento da renda em casa hoje  formado  ganhei seis prêmios com trabalhos de fotografias e jornalismo no país   quando o estudo começou a ser feito  em 2017  osmar terra ocupava o ministério de desenvolvimento social durante o governo michel temer  a pasta se fundiu com cultura e esportes e passou ser chamada de cidadania  diante desses resultados preliminares  o criança feliz passou a fazer visitas semanais a crianças de até três anos beneficiárias do bolsa família um programa que desde a era temer tem sofrido cortes   os visitadores realizam atividades que orientam as famílias a impulsionar o desenvolvimento cognitivo  motor  socioafetivo e da linguagem das crianças  visando diminuir esta defasagem constatada nos resultados preliminares   explica o ministério da cidadania por meio dessa pesquisa  que é feita de forma contínua  o ministério também consegue acompanhar os resultados do programa social no desenvolvimento **infantil** das crianças  o teste  identifica funções cognitivas e intelectuais e mede as reações das crianças de acordo com os estímulos e atividades desenvolvidos   um total 3 000 crianças estão sendo avaliadas  sendo 1 500 atendidas pelo   a conclusão final da pesquisa está prevista para 2022 "
      ]
    },
    {
      "cell_type": "markdown",
      "metadata": {
        "id": "YqxLHHk3joYc",
        "colab_type": "text"
      },
      "source": [
        "### Discussão"
      ]
    },
    {
      "cell_type": "markdown",
      "metadata": {
        "id": "grus_bt3jrHD",
        "colab_type": "text"
      },
      "source": [
        "Como vimos na exceução dessa nova pesquisa, os termos \"educação infantil\" aparecem no mesmo documento nos documentos 203 com 5 ocorrências e 147 com 2 ocorrências. Acima temos o documento 203, e em negrito podemos perceber 1 ocorrência da palavra \"educação\" e 4 ocorrências da palavra \"infantil\", totalizando 5 ocorrências, conforme exibido no resultado do algoritimo."
      ]
    },
    {
      "cell_type": "code",
      "metadata": {
        "id": "A4Qp_ggijAI9",
        "colab_type": "code",
        "colab": {
          "base_uri": "https://localhost:8080/",
          "height": 54
        },
        "outputId": "419be7ac-a2a9-4841-c114-038846cb98d8"
      },
      "source": [
        "dataframe.loc[146, 'treatedText']\n"
      ],
      "execution_count": 458,
      "outputs": [
        {
          "output_type": "execute_result",
          "data": {
            "text/plain": [
              "'essas são falas conhecidas  todas nós  mulheres  já as escutamos em algum almoço familiar  em conversas com amigos  nos nossos ambientes profissionais ou de nossos parceiros conjugais  muitas vezes podemos até ter repetido algumas delas  dizendo como nossos companheiros são  modernos  e menos enquadrados no padrão machista  essas frases  cheias de preconceitos e estereótipos  portanto  não são algo do nosso passado  ao contrário  ainda dialogam com a realidade dos lares brasileiros e com os valores sociais que seguem pautando o entendimento do que é ser mulher ou ser homem no brasil  estamos em 2019 e  apesar de todos os avanços das mulheres nos mais diversos campos sociais e das mudanças de comportamento de toda a sociedade  o trabalho doméstico segue sendo responsabilidade feminina os dados mais recentes divulgados pela pesquisa nacional por amostra de domicílios contínua  pnadc   do ibge  e compilados   do ipea  mostram que  em 2017  enquanto 93  das mulheres declaravam realizar algum tipo de atividade doméstica não remunerada  entre os homens essa proporção era de 79   uma primeira olhada para esses dados parece indicar que estamos diante de uma divisão sexual do trabalho doméstico que se aproxima da igualdade  nove em cada dez mulheres e oito em cada dez homens dizem realizar algum tipo de trabalho doméstico  então por que ao olharmos para nossas rotinas ou para as rotinas das famílias que nos circundam não nos reconhecemos nesses dados primeiro porque esses números referem se a uma grande categoria de  afazeres domésticos e de cuidados  que engloba atividades tão distintas como pagar as contas da casa e cozinhar ou levar as crianças ao parque e ajudar familiares doentes a tomarem banho  por exemplo  assim  uma primeira pergunta que devemos responder é  afinal  a que trabalho doméstico homens e mulheres se referem quando respondem essas questões ao ibge  os dados da pnad contínua permitiram  pela primeira vez  ter esta resposta enquanto as mulheres dedicam se a atividades mais rotineiras  exaustivas  demandantes de tempo e que têm de ser feitas todos os dias   tais como lavar roupas e vasilhas  passar roupas  limpar a casa  cuidar dos filhos  cozinhar    os homens direcionam seus esforços a atividades mais ocasionais e flexíveis que  em certa medida  também têm sido percebidas como mais prazerosas que as demais  como  por exemplo  a realização de pequenos reparos nas residências  os cuidados com o jardim e os carros  o pagamento de contas ou o lazer com os filhos segundo  porque mais importante do que saber se uma pessoa realiza ou não algum tipo de trabalho doméstico é saber quanto tempo ela dedica a essas atividades  é essa a informação que nos permite falar na sobrecarga de trabalho das mulheres ou na ideia de uma dupla jornada  em 2017  as mulheres ainda despendiam o dobro de horas que os homens em trabalho de cuidados e em afazeres domésticos  as jornadas semanais para elas nessas atividades eram de 21 horas  enquanto para eles eram de pouco menos de 11 horas  se as desigualdades aqui são impressionantes  elas impressionam ainda mais pelo seu comportamento ao longo dos anos se voltarmos a 2001  quando o ibge começou a captar essas informações  podemos perceber que há  de fato  uma redução nas desigualdades de gênero no tempo gasto nessas atividades  se naquele ano as mulheres despendiam 20 horas a mais do que os homens nas atividades domésticas  em 2017 essa diferença cai para 10 horas por semana  ainda que existam diferenças metodológicas entre as pesquisas de 2001 e 2017  as tendências gerais do comportamento desses indicadores permanece válida no entanto  salta aos olhos o fato de que os homens  ao longo desses 17 anos  mantêm se alocando as mesmas 11 horas semanais em trabalho doméstico  ou seja  a redução nessas desigualdades é resultado exclusivamente da mudança no comportamento das mulheres  que reduziram de forma expressiva o tempo dedicado a essas atividades  em 2001  suas jornadas semanais eram de 31 horas  47  a mais do que o captado em 2017 a progressiva ampliação das jornadas femininas no mercado de trabalho  a redução no número de filhos  o barateamento e a difusão de equipamentos domésticos  em especial da chamada linha branca  e serviços de infraestrutura que poupam tempo  como acesso a luz e saneamento básico   além da ampliação do acesso à educação infantil  creches e pré escolas   certamente contribuíram para que as mulheres reduzissem suas jornadas reprodutivas  no entanto  nada foi capaz de alterar de forma expressiva o comportamento masculino nesse campo  é incômodo perceber que  como já dizia elis regina   apesar de termos feito tudo que fizemos  ainda somos os mesmos e vivemos  quase  como nossos pais   ao menos em relação à divisão sexual do trabalho doméstico  técnica de planejamento e pesquisa da coordenação de gênero  raça e gerações do ipea '"
            ]
          },
          "metadata": {
            "tags": []
          },
          "execution_count": 458
        }
      ]
    },
    {
      "cell_type": "markdown",
      "metadata": {
        "id": "ESeaADwpoWU2",
        "colab_type": "text"
      },
      "source": [
        "### Texto com palavras pesquisadas em Highlights"
      ]
    },
    {
      "cell_type": "markdown",
      "metadata": {
        "id": "tzmqUVz_jKXY",
        "colab_type": "text"
      },
      "source": [
        "'essas são falas conhecidas  todas nós  mulheres  já as escutamos em algum almoço familiar  em conversas com amigos  nos nossos ambientes profissionais ou de nossos parceiros conjugais  muitas vezes podemos até ter repetido algumas delas  dizendo como nossos companheiros são  modernos  e menos enquadrados no padrão machista  essas frases  cheias de preconceitos e estereótipos  portanto  não são algo do nosso passado  ao contrário  ainda dialogam com a realidade dos lares brasileiros e com os valores sociais que seguem pautando o entendimento do que é ser mulher ou ser homem no brasil  estamos em 2019 e  apesar de todos os avanços das mulheres nos mais diversos campos sociais e das mudanças de comportamento de toda a sociedade  o trabalho doméstico segue sendo responsabilidade feminina os dados mais recentes divulgados pela pesquisa nacional por amostra de domicílios contínua  pnadc   do ibge  e compilados   do ipea  mostram que  em 2017  enquanto 93  das mulheres declaravam realizar algum tipo de atividade doméstica não remunerada  entre os homens essa proporção era de 79   uma primeira olhada para esses dados parece indicar que estamos diante de uma divisão sexual do trabalho doméstico que se aproxima da igualdade  nove em cada dez mulheres e oito em cada dez homens dizem realizar algum tipo de trabalho doméstico  então por que ao olharmos para nossas rotinas ou para as rotinas das famílias que nos circundam não nos reconhecemos nesses dados primeiro porque esses números referem se a uma grande categoria de  afazeres domésticos e de cuidados  que engloba atividades tão distintas como pagar as contas da casa e cozinhar ou levar as crianças ao parque e ajudar familiares doentes a tomarem banho  por exemplo  assim  uma primeira pergunta que devemos responder é  afinal  a que trabalho doméstico homens e mulheres se referem quando respondem essas questões ao ibge  os dados da pnad contínua permitiram  pela primeira vez  ter esta resposta enquanto as mulheres dedicam se a atividades mais rotineiras  exaustivas  demandantes de tempo e que têm de ser feitas todos os dias   tais como lavar roupas e vasilhas  passar roupas  limpar a casa  cuidar dos filhos  cozinhar    os homens direcionam seus esforços a atividades mais ocasionais e flexíveis que  em certa medida  também têm sido percebidas como mais prazerosas que as demais  como  por exemplo  a realização de pequenos reparos nas residências  os cuidados com o jardim e os carros  o pagamento de contas ou o lazer com os filhos segundo  porque mais importante do que saber se uma pessoa realiza ou não algum tipo de trabalho doméstico é saber quanto tempo ela dedica a essas atividades  é essa a informação que nos permite falar na sobrecarga de trabalho das mulheres ou na ideia de uma dupla jornada  em 2017  as mulheres ainda despendiam o dobro de horas que os homens em trabalho de cuidados e em afazeres domésticos  as jornadas semanais para elas nessas atividades eram de 21 horas  enquanto para eles eram de pouco menos de 11 horas  se as desigualdades aqui são impressionantes  elas impressionam ainda mais pelo seu comportamento ao longo dos anos se voltarmos a 2001  quando o ibge começou a captar essas informações  podemos perceber que há  de fato  uma redução nas desigualdades de gênero no tempo gasto nessas atividades  se naquele ano as mulheres despendiam 20 horas a mais do que os homens nas atividades domésticas  em 2017 essa diferença cai para 10 horas por semana  ainda que existam diferenças metodológicas entre as pesquisas de 2001 e 2017  as tendências gerais do comportamento desses indicadores permanece válida no entanto  salta aos olhos o fato de que os homens  ao longo desses 17 anos  mantêm se alocando as mesmas 11 horas semanais em trabalho doméstico  ou seja  a redução nessas desigualdades é resultado exclusivamente da mudança no comportamento das mulheres  que reduziram de forma expressiva o tempo dedicado a essas atividades  em 2001  suas jornadas semanais eram de 31 horas  47  a mais do que o captado em 2017 a progressiva ampliação das jornadas femininas no mercado de trabalho  a redução no número de filhos  o barateamento e a difusão de equipamentos domésticos  em especial da chamada linha branca  e serviços de infraestrutura que poupam tempo  como acesso a luz e saneamento básico   além da ampliação do acesso à **educação** **infantil**  creches e pré escolas   certamente contribuíram para que as mulheres reduzissem suas jornadas reprodutivas  no entanto  nada foi capaz de alterar de forma expressiva o comportamento masculino nesse campo  é incômodo perceber que  como já dizia elis regina   apesar de termos feito tudo que fizemos  ainda somos os mesmos e vivemos  quase  como nossos pais   ao menos em relação à divisão sexual do trabalho doméstico  técnica de planejamento e pesquisa da coordenação de gênero  raça e gerações do ipea '"
      ]
    },
    {
      "cell_type": "markdown",
      "metadata": {
        "id": "ZaMg2IqNko8u",
        "colab_type": "text"
      },
      "source": [
        "### Discussão"
      ]
    },
    {
      "cell_type": "markdown",
      "metadata": {
        "id": "TKJd0_nbksM6",
        "colab_type": "text"
      },
      "source": [
        "Acima temos o documento 147, e em negrito podemos perceber 1 ocorrência da palavra \"educação\" e 1 ocorrência da palavra \"infantil\", totalizando 2 ocorrências, conforme exibido no resultado do algoritimo."
      ]
    }
  ]
}